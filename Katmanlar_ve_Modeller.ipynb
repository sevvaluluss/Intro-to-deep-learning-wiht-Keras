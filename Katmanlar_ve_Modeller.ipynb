{
  "nbformat": 4,
  "nbformat_minor": 0,
  "metadata": {
    "colab": {
      "provenance": [],
      "include_colab_link": true
    },
    "kernelspec": {
      "name": "python3",
      "display_name": "Python 3"
    }
  },
  "cells": [
    {
      "cell_type": "markdown",
      "metadata": {
        "id": "view-in-github",
        "colab_type": "text"
      },
      "source": [
        "<a href=\"https://colab.research.google.com/github/sevvaluluss/Intro-to-deep-learning-wiht-Keras/blob/main/Katmanlar_ve_Modeller.ipynb\" target=\"_parent\"><img src=\"https://colab.research.google.com/assets/colab-badge.svg\" alt=\"Open In Colab\"/></a>"
      ]
    },
    {
      "cell_type": "markdown",
      "metadata": {
        "id": "pwnf7deeemZo"
      },
      "source": [
        "KATMANLAR"
      ]
    },
    {
      "cell_type": "code",
      "metadata": {
        "id": "revc551fb0xY",
        "colab": {
          "base_uri": "https://localhost:8080/",
          "height": 34
        },
        "outputId": "7fb6d584-b444-4c82-f134-b34ca28be729"
      },
      "source": [
        "from keras import layers"
      ],
      "execution_count": null,
      "outputs": [
        {
          "output_type": "stream",
          "text": [
            "Using TensorFlow backend.\n"
          ],
          "name": "stderr"
        }
      ]
    },
    {
      "cell_type": "code",
      "metadata": {
        "id": "B3JiALPHePFU"
      },
      "source": [
        "layer = layers.Dense(32, input_shape = (784, ))"
      ],
      "execution_count": null,
      "outputs": []
    },
    {
      "cell_type": "markdown",
      "metadata": {
        "id": "8eK5RkQaeqbS"
      },
      "source": [
        "MODELLER"
      ]
    },
    {
      "cell_type": "code",
      "metadata": {
        "id": "rC3CQRe4eiEZ"
      },
      "source": [
        "from keras import models"
      ],
      "execution_count": null,
      "outputs": []
    },
    {
      "cell_type": "code",
      "metadata": {
        "id": "CxlRa-loeu0k"
      },
      "source": [
        "model = models.Sequential()\n",
        "model.add(layers.Dense(32, input_shape=(784, )))\n",
        "model.add(layers.Dense(32))"
      ],
      "execution_count": null,
      "outputs": []
    },
    {
      "cell_type": "code",
      "metadata": {
        "id": "aeU4gzNefCoN",
        "colab": {
          "base_uri": "https://localhost:8080/",
          "height": 221
        },
        "outputId": "7ecc6f50-e3b3-4f33-c2e2-86ea8e3d85b8"
      },
      "source": [
        "model.summary()"
      ],
      "execution_count": null,
      "outputs": [
        {
          "output_type": "stream",
          "text": [
            "Model: \"sequential_2\"\n",
            "_________________________________________________________________\n",
            "Layer (type)                 Output Shape              Param #   \n",
            "=================================================================\n",
            "dense_2 (Dense)              (None, 32)                25120     \n",
            "_________________________________________________________________\n",
            "dense_3 (Dense)              (None, 32)                1056      \n",
            "=================================================================\n",
            "Total params: 26,176\n",
            "Trainable params: 26,176\n",
            "Non-trainable params: 0\n",
            "_________________________________________________________________\n"
          ],
          "name": "stdout"
        }
      ]
    },
    {
      "cell_type": "code",
      "metadata": {
        "id": "J1OvQT2jfLPB"
      },
      "source": [],
      "execution_count": null,
      "outputs": []
    }
  ]
}